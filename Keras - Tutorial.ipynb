{
 "cells": [
  {
   "source": [
    "### This is the exercise which my professor gave me to practice conventional neural network using keras\n",
    "\n",
    "### in this exercise, I have to write a code to predict a face from image is happy or not happy. Reading training data in .h5 file to train the model."
   ],
   "cell_type": "markdown",
   "metadata": {}
  },
  {
   "cell_type": "code",
   "execution_count": 2,
   "metadata": {},
   "outputs": [],
   "source": [
    "import keras.backend as K\n",
    "import math\n",
    "import numpy as np\n",
    "import h5py\n",
    "import matplotlib.pyplot as plt\n",
    "\n",
    "\n",
    "def mean_pred(y_true, y_pred):\n",
    "    return K.mean(y_pred)\n",
    "\n",
    "def load_dataset():\n",
    "    train_dataset = h5py.File('train_happy.h5', 'r')\n",
    "    train_set_x_orig = np.array(train_dataset[\"train_set_x\"][:]) # the train set features\n",
    "    train_set_y_orig = np.array(train_dataset[\"train_set_y\"][:]) # the train set labels\n",
    "\n",
    "    test_dataset = h5py.File('test_happy.h5', \"r\")\n",
    "    test_set_x_orig = np.array(test_dataset[\"test_set_x\"][:]) # the test set features\n",
    "    test_set_y_orig = np.array(test_dataset[\"test_set_y\"][:]) # the test set labels\n",
    "\n",
    "    classes = np.array(test_dataset[\"list_classes\"][:]) # the list of classes\n",
    "    \n",
    "    train_set_y_orig = train_set_y_orig.reshape((1, train_set_y_orig.shape[0]))\n",
    "    test_set_y_orig = test_set_y_orig.reshape((1, test_set_y_orig.shape[0]))\n",
    "    \n",
    "    return train_set_x_orig, train_set_y_orig, test_set_x_orig, test_set_y_orig, classes"
   ]
  },
  {
   "cell_type": "code",
   "execution_count": 3,
   "metadata": {},
   "outputs": [],
   "source": [
    "import numpy as np\n",
    "from keras import layers\n",
    "from keras.layers import Input, Dense, Activation, ZeroPadding2D, BatchNormalization, Flatten, Conv2D\n",
    "from keras.layers import AveragePooling2D, MaxPooling2D, Dropout, GlobalMaxPooling2D, GlobalAveragePooling2D\n",
    "from keras.models import Model\n",
    "from keras.preprocessing import image\n",
    "from keras.utils import layer_utils\n",
    "from keras.utils.data_utils import get_file\n",
    "from keras.applications.imagenet_utils import preprocess_input\n",
    "import pydot\n",
    "from IPython.display import SVG\n",
    "from keras.utils.vis_utils import model_to_dot\n",
    "from keras.utils import plot_model\n",
    "\n",
    "\n",
    "import keras.backend as K\n",
    "K.set_image_data_format('channels_last')\n",
    "import matplotlib.pyplot as plt\n",
    "from matplotlib.pyplot import imshow\n",
    "\n",
    "%matplotlib inline"
   ]
  },
  {
   "cell_type": "code",
   "execution_count": 4,
   "metadata": {},
   "outputs": [
    {
     "output_type": "stream",
     "name": "stdout",
     "text": [
      "number of training examples = 600\nnumber of test examples = 150\nX_train shape: (600, 64, 64, 3)\nY_train shape: (600, 1)\nX_test shape: (150, 64, 64, 3)\nY_test shape: (150, 1)\n"
     ]
    }
   ],
   "source": [
    "X_train_orig, Y_train_orig, X_test_orig, Y_test_orig, classes = load_dataset()\n",
    "\n",
    "# Normalize image vectors\n",
    "X_train = X_train_orig/255.\n",
    "X_test = X_test_orig/255.\n",
    "\n",
    "# Reshape\n",
    "Y_train = Y_train_orig.T\n",
    "Y_test = Y_test_orig.T\n",
    "\n",
    "print (\"number of training examples = \" + str(X_train.shape[0]))\n",
    "print (\"number of test examples = \" + str(X_test.shape[0]))\n",
    "print (\"X_train shape: \" + str(X_train.shape))\n",
    "print (\"Y_train shape: \" + str(Y_train.shape))\n",
    "print (\"X_test shape: \" + str(X_test.shape))\n",
    "print (\"Y_test shape: \" + str(Y_test.shape))"
   ]
  },
  {
   "cell_type": "code",
   "execution_count": 5,
   "metadata": {},
   "outputs": [],
   "source": [
    "# GRADED FUNCTION: HappyModel\n",
    "\n",
    "def HappyModel(input_shape):\n",
    "    \"\"\"\n",
    "    Implementation of the HappyModel.\n",
    "    \n",
    "    Arguments:\n",
    "    input_shape -- shape of the images of the dataset\n",
    "\n",
    "    Returns:\n",
    "    model -- a Model() instance in Keras\n",
    "    \"\"\"\n",
    "    \n",
    "    X_input = Input(input_shape)\n",
    "\n",
    "    # Zero-Padding: pads the border of X_input with zeroes\n",
    "    X = ZeroPadding2D((3, 3))(X_input)\n",
    "\n",
    "    # CONV -> BN -> RELU Block applied to X\n",
    "    X = Conv2D(32, (7, 7), strides = (1, 1), name = 'conv0')(X)\n",
    "    X = BatchNormalization(axis = 3, name = 'bn0')(X)\n",
    "    X = Activation('relu')(X)\n",
    "\n",
    "    # MAXPOOL\n",
    "    X = MaxPooling2D((2, 2), name='max_pool')(X)\n",
    "\n",
    "    # FLATTEN X (means convert it to a vector) + FULLYCONNECTED\n",
    "    X = Flatten()(X)\n",
    "    X = Dense(1, activation='sigmoid', name='fc')(X)\n",
    "\n",
    "    # Create model. This creates the Keras model instance\n",
    "    model = Model(inputs = X_input, outputs = X, name='HappyModel')\n",
    "    \n",
    "    return model"
   ]
  },
  {
   "cell_type": "markdown",
   "metadata": {},
   "source": [
    "## create the model."
   ]
  },
  {
   "cell_type": "code",
   "execution_count": 6,
   "metadata": {
    "collapsed": true
   },
   "outputs": [],
   "source": [
    "happyModel = HappyModel((64, 64, 3))"
   ]
  },
  {
   "cell_type": "markdown",
   "metadata": {},
   "source": [
    "## compile the model to configure the learning process."
   ]
  },
  {
   "cell_type": "code",
   "execution_count": 7,
   "metadata": {
    "collapsed": true
   },
   "outputs": [],
   "source": [
    "happyModel.compile(loss='binary_crossentropy', optimizer='adam', metrics=['accuracy'])"
   ]
  },
  {
   "cell_type": "markdown",
   "metadata": {},
   "source": [
    "## train the model."
   ]
  },
  {
   "cell_type": "code",
   "execution_count": 8,
   "metadata": {},
   "outputs": [
    {
     "output_type": "stream",
     "name": "stdout",
     "text": [
      "Epoch 1/40\n",
      "600/600 [==============================] - 4s 6ms/step - loss: 2.3539 - accuracy: 0.7100\n",
      "Epoch 2/40\n",
      "600/600 [==============================] - 4s 6ms/step - loss: 0.8073 - accuracy: 0.8583\n",
      "Epoch 3/40\n",
      "600/600 [==============================] - 4s 7ms/step - loss: 0.5482 - accuracy: 0.8983\n",
      "Epoch 4/40\n",
      "600/600 [==============================] - 4s 6ms/step - loss: 0.3217 - accuracy: 0.9217\n",
      "Epoch 5/40\n",
      "600/600 [==============================] - 4s 6ms/step - loss: 0.2043 - accuracy: 0.9483\n",
      "Epoch 6/40\n",
      "600/600 [==============================] - 4s 7ms/step - loss: 0.3112 - accuracy: 0.9383\n",
      "Epoch 7/40\n",
      "600/600 [==============================] - 5s 8ms/step - loss: 0.2004 - accuracy: 0.9483\n",
      "Epoch 8/40\n",
      "600/600 [==============================] - 4s 7ms/step - loss: 0.1600 - accuracy: 0.9517\n",
      "Epoch 9/40\n",
      "600/600 [==============================] - 5s 8ms/step - loss: 0.1113 - accuracy: 0.9717\n",
      "Epoch 10/40\n",
      "600/600 [==============================] - 4s 7ms/step - loss: 0.1392 - accuracy: 0.9583\n",
      "Epoch 11/40\n",
      "600/600 [==============================] - 5s 8ms/step - loss: 0.1081 - accuracy: 0.9650\n",
      "Epoch 12/40\n",
      "600/600 [==============================] - 4s 7ms/step - loss: 0.1169 - accuracy: 0.9583\n",
      "Epoch 13/40\n",
      "600/600 [==============================] - 4s 7ms/step - loss: 0.0872 - accuracy: 0.9700\n",
      "Epoch 14/40\n",
      "600/600 [==============================] - 5s 8ms/step - loss: 0.0758 - accuracy: 0.9783\n",
      "Epoch 15/40\n",
      "600/600 [==============================] - 4s 7ms/step - loss: 0.0546 - accuracy: 0.9800\n",
      "Epoch 16/40\n",
      "600/600 [==============================] - 4s 7ms/step - loss: 0.0780 - accuracy: 0.9783\n",
      "Epoch 17/40\n",
      "600/600 [==============================] - 4s 7ms/step - loss: 0.0304 - accuracy: 0.9883\n",
      "Epoch 18/40\n",
      "600/600 [==============================] - 4s 7ms/step - loss: 0.0593 - accuracy: 0.9783\n",
      "Epoch 19/40\n",
      "600/600 [==============================] - 4s 7ms/step - loss: 0.0496 - accuracy: 0.9783\n",
      "Epoch 20/40\n",
      "600/600 [==============================] - 4s 7ms/step - loss: 0.0284 - accuracy: 0.9900\n",
      "Epoch 21/40\n",
      "600/600 [==============================] - 4s 7ms/step - loss: 0.0612 - accuracy: 0.9833\n",
      "Epoch 22/40\n",
      "600/600 [==============================] - 4s 7ms/step - loss: 0.0394 - accuracy: 0.9867\n",
      "Epoch 23/40\n",
      "600/600 [==============================] - 4s 7ms/step - loss: 0.0304 - accuracy: 0.9900\n",
      "Epoch 24/40\n",
      "600/600 [==============================] - 4s 7ms/step - loss: 0.0223 - accuracy: 0.9917\n",
      "Epoch 25/40\n",
      "600/600 [==============================] - 4s 7ms/step - loss: 0.0463 - accuracy: 0.9800\n",
      "Epoch 26/40\n",
      "600/600 [==============================] - 5s 8ms/step - loss: 0.0093 - accuracy: 0.9967\n",
      "Epoch 27/40\n",
      "600/600 [==============================] - 4s 7ms/step - loss: 0.0277 - accuracy: 0.9933\n",
      "Epoch 28/40\n",
      "600/600 [==============================] - 4s 7ms/step - loss: 0.0113 - accuracy: 0.9983\n",
      "Epoch 29/40\n",
      "600/600 [==============================] - 4s 7ms/step - loss: 0.0372 - accuracy: 0.9867\n",
      "Epoch 30/40\n",
      "600/600 [==============================] - 4s 7ms/step - loss: 0.0236 - accuracy: 0.9917\n",
      "Epoch 31/40\n",
      "600/600 [==============================] - 4s 7ms/step - loss: 0.0235 - accuracy: 0.9933\n",
      "Epoch 32/40\n",
      "600/600 [==============================] - 4s 7ms/step - loss: 0.0201 - accuracy: 0.9900\n",
      "Epoch 33/40\n",
      "600/600 [==============================] - 4s 7ms/step - loss: 0.0146 - accuracy: 0.9950\n",
      "Epoch 34/40\n",
      "600/600 [==============================] - 5s 8ms/step - loss: 0.0151 - accuracy: 0.9950\n",
      "Epoch 35/40\n",
      "600/600 [==============================] - 4s 7ms/step - loss: 0.0133 - accuracy: 0.9983\n",
      "Epoch 36/40\n",
      "600/600 [==============================] - 4s 7ms/step - loss: 0.0163 - accuracy: 0.9950\n",
      "Epoch 37/40\n",
      "600/600 [==============================] - 4s 7ms/step - loss: 0.0161 - accuracy: 0.9967\n",
      "Epoch 38/40\n",
      "600/600 [==============================] - 5s 8ms/step - loss: 0.0024 - accuracy: 1.0000\n",
      "Epoch 39/40\n",
      "600/600 [==============================] - 4s 7ms/step - loss: 0.0132 - accuracy: 0.9967\n",
      "Epoch 40/40\n",
      "600/600 [==============================] - 5s 8ms/step - loss: 0.0461 - accuracy: 0.9867\n"
     ]
    },
    {
     "output_type": "execute_result",
     "data": {
      "text/plain": [
       "<tensorflow.python.keras.callbacks.History at 0x1c0eda6c6a0>"
      ]
     },
     "metadata": {},
     "execution_count": 8
    }
   ],
   "source": [
    "happyModel.fit(x = X_train, y = Y_train, epochs = 40, batch_size = 1)"
   ]
  },
  {
   "cell_type": "markdown",
   "metadata": {},
   "source": [
    "## test/evaluate the model."
   ]
  },
  {
   "cell_type": "code",
   "execution_count": 9,
   "metadata": {
    "scrolled": true
   },
   "outputs": [
    {
     "output_type": "stream",
     "name": "stdout",
     "text": [
      "\nLoss = [1.]\nTest Accuracy = [0.00095937]\n"
     ]
    }
   ],
   "source": [
    "### START CODE HERE ### (1 line)\n",
    "preds = happyModel.predict(X_test)\n",
    "### END CODE HERE ###\n",
    "print()\n",
    "print (\"Loss = \" + str(preds[0]))\n",
    "print (\"Test Accuracy = \" + str(preds[1]))"
   ]
  },
  {
   "cell_type": "code",
   "execution_count": 10,
   "metadata": {},
   "outputs": [
    {
     "output_type": "stream",
     "name": "stdout",
     "text": [
      "[[1.]]\n"
     ]
    },
    {
     "output_type": "display_data",
     "data": {
      "text/plain": "<Figure size 432x288 with 1 Axes>",
      "image/svg+xml": "<?xml version=\"1.0\" encoding=\"utf-8\" standalone=\"no\"?>\r\n<!DOCTYPE svg PUBLIC \"-//W3C//DTD SVG 1.1//EN\"\r\n  \"http://www.w3.org/Graphics/SVG/1.1/DTD/svg11.dtd\">\r\n<!-- Created with matplotlib (https://matplotlib.org/) -->\r\n<svg height=\"250.618594pt\" version=\"1.1\" viewBox=\"0 0 251.565 250.618594\" width=\"251.565pt\" xmlns=\"http://www.w3.org/2000/svg\" xmlns:xlink=\"http://www.w3.org/1999/xlink\">\r\n <metadata>\r\n  <rdf:RDF xmlns:cc=\"http://creativecommons.org/ns#\" xmlns:dc=\"http://purl.org/dc/elements/1.1/\" xmlns:rdf=\"http://www.w3.org/1999/02/22-rdf-syntax-ns#\">\r\n   <cc:Work>\r\n    <dc:type rdf:resource=\"http://purl.org/dc/dcmitype/StillImage\"/>\r\n    <dc:date>2021-04-19T10:56:02.851289</dc:date>\r\n    <dc:format>image/svg+xml</dc:format>\r\n    <dc:creator>\r\n     <cc:Agent>\r\n      <dc:title>Matplotlib v3.3.4, https://matplotlib.org/</dc:title>\r\n     </cc:Agent>\r\n    </dc:creator>\r\n   </cc:Work>\r\n  </rdf:RDF>\r\n </metadata>\r\n <defs>\r\n  <style type=\"text/css\">*{stroke-linecap:butt;stroke-linejoin:round;}</style>\r\n </defs>\r\n <g id=\"figure_1\">\r\n  <g id=\"patch_1\">\r\n   <path d=\"M 0 250.618594 \r\nL 251.565 250.618594 \r\nL 251.565 0 \r\nL 0 0 \r\nz\r\n\" style=\"fill:none;\"/>\r\n  </g>\r\n  <g id=\"axes_1\">\r\n   <g id=\"patch_2\">\r\n    <path d=\"M 26.925 226.740469 \r\nL 244.365 226.740469 \r\nL 244.365 9.300469 \r\nL 26.925 9.300469 \r\nz\r\n\" style=\"fill:#ffffff;\"/>\r\n   </g>\r\n   <g clip-path=\"url(#p20dc806543)\">\r\n    <image height=\"218\" id=\"image3cd7ec06c9\" transform=\"scale(1 -1)translate(0 -218)\" width=\"218\" x=\"26.925\" xlink:href=\"data:image/png;base64,\r\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\" y=\"-8.740469\"/>\r\n   </g>\r\n   <g id=\"matplotlib.axis_1\">\r\n    <g id=\"xtick_1\">\r\n     <g id=\"line2d_1\">\r\n      <defs>\r\n       <path d=\"M 0 0 \r\nL 0 3.5 \r\n\" id=\"mbc292658eb\" style=\"stroke:#000000;stroke-width:0.8;\"/>\r\n      </defs>\r\n      <g>\r\n       <use style=\"stroke:#000000;stroke-width:0.8;\" x=\"28.62375\" xlink:href=\"#mbc292658eb\" y=\"226.740469\"/>\r\n      </g>\r\n     </g>\r\n     <g id=\"text_1\">\r\n      <!-- 0 -->\r\n      <g transform=\"translate(25.4425 241.338906)scale(0.1 -0.1)\">\r\n       <defs>\r\n        <path d=\"M 31.78125 66.40625 \r\nQ 24.171875 66.40625 20.328125 58.90625 \r\nQ 16.5 51.421875 16.5 36.375 \r\nQ 16.5 21.390625 20.328125 13.890625 \r\nQ 24.171875 6.390625 31.78125 6.390625 \r\nQ 39.453125 6.390625 43.28125 13.890625 \r\nQ 47.125 21.390625 47.125 36.375 \r\nQ 47.125 51.421875 43.28125 58.90625 \r\nQ 39.453125 66.40625 31.78125 66.40625 \r\nz\r\nM 31.78125 74.21875 \r\nQ 44.046875 74.21875 50.515625 64.515625 \r\nQ 56.984375 54.828125 56.984375 36.375 \r\nQ 56.984375 17.96875 50.515625 8.265625 \r\nQ 44.046875 -1.421875 31.78125 -1.421875 \r\nQ 19.53125 -1.421875 13.0625 8.265625 \r\nQ 6.59375 17.96875 6.59375 36.375 \r\nQ 6.59375 54.828125 13.0625 64.515625 \r\nQ 19.53125 74.21875 31.78125 74.21875 \r\nz\r\n\" id=\"DejaVuSans-48\"/>\r\n       </defs>\r\n       <use xlink:href=\"#DejaVuSans-48\"/>\r\n      </g>\r\n     </g>\r\n    </g>\r\n    <g id=\"xtick_2\">\r\n     <g id=\"line2d_2\">\r\n      <g>\r\n       <use style=\"stroke:#000000;stroke-width:0.8;\" x=\"62.59875\" xlink:href=\"#mbc292658eb\" y=\"226.740469\"/>\r\n      </g>\r\n     </g>\r\n     <g id=\"text_2\">\r\n      <!-- 10 -->\r\n      <g transform=\"translate(56.23625 241.338906)scale(0.1 -0.1)\">\r\n       <defs>\r\n        <path d=\"M 12.40625 8.296875 \r\nL 28.515625 8.296875 \r\nL 28.515625 63.921875 \r\nL 10.984375 60.40625 \r\nL 10.984375 69.390625 \r\nL 28.421875 72.90625 \r\nL 38.28125 72.90625 \r\nL 38.28125 8.296875 \r\nL 54.390625 8.296875 \r\nL 54.390625 0 \r\nL 12.40625 0 \r\nz\r\n\" id=\"DejaVuSans-49\"/>\r\n       </defs>\r\n       <use xlink:href=\"#DejaVuSans-49\"/>\r\n       <use x=\"63.623047\" xlink:href=\"#DejaVuSans-48\"/>\r\n      </g>\r\n     </g>\r\n    </g>\r\n    <g id=\"xtick_3\">\r\n     <g id=\"line2d_3\">\r\n      <g>\r\n       <use style=\"stroke:#000000;stroke-width:0.8;\" x=\"96.57375\" xlink:href=\"#mbc292658eb\" y=\"226.740469\"/>\r\n      </g>\r\n     </g>\r\n     <g id=\"text_3\">\r\n      <!-- 20 -->\r\n      <g transform=\"translate(90.21125 241.338906)scale(0.1 -0.1)\">\r\n       <defs>\r\n        <path d=\"M 19.1875 8.296875 \r\nL 53.609375 8.296875 \r\nL 53.609375 0 \r\nL 7.328125 0 \r\nL 7.328125 8.296875 \r\nQ 12.9375 14.109375 22.625 23.890625 \r\nQ 32.328125 33.6875 34.8125 36.53125 \r\nQ 39.546875 41.84375 41.421875 45.53125 \r\nQ 43.3125 49.21875 43.3125 52.78125 \r\nQ 43.3125 58.59375 39.234375 62.25 \r\nQ 35.15625 65.921875 28.609375 65.921875 \r\nQ 23.96875 65.921875 18.8125 64.3125 \r\nQ 13.671875 62.703125 7.8125 59.421875 \r\nL 7.8125 69.390625 \r\nQ 13.765625 71.78125 18.9375 73 \r\nQ 24.125 74.21875 28.421875 74.21875 \r\nQ 39.75 74.21875 46.484375 68.546875 \r\nQ 53.21875 62.890625 53.21875 53.421875 \r\nQ 53.21875 48.921875 51.53125 44.890625 \r\nQ 49.859375 40.875 45.40625 35.40625 \r\nQ 44.1875 33.984375 37.640625 27.21875 \r\nQ 31.109375 20.453125 19.1875 8.296875 \r\nz\r\n\" id=\"DejaVuSans-50\"/>\r\n       </defs>\r\n       <use xlink:href=\"#DejaVuSans-50\"/>\r\n       <use x=\"63.623047\" xlink:href=\"#DejaVuSans-48\"/>\r\n      </g>\r\n     </g>\r\n    </g>\r\n    <g id=\"xtick_4\">\r\n     <g id=\"line2d_4\">\r\n      <g>\r\n       <use style=\"stroke:#000000;stroke-width:0.8;\" x=\"130.54875\" xlink:href=\"#mbc292658eb\" y=\"226.740469\"/>\r\n      </g>\r\n     </g>\r\n     <g id=\"text_4\">\r\n      <!-- 30 -->\r\n      <g transform=\"translate(124.18625 241.338906)scale(0.1 -0.1)\">\r\n       <defs>\r\n        <path d=\"M 40.578125 39.3125 \r\nQ 47.65625 37.796875 51.625 33 \r\nQ 55.609375 28.21875 55.609375 21.1875 \r\nQ 55.609375 10.40625 48.1875 4.484375 \r\nQ 40.765625 -1.421875 27.09375 -1.421875 \r\nQ 22.515625 -1.421875 17.65625 -0.515625 \r\nQ 12.796875 0.390625 7.625 2.203125 \r\nL 7.625 11.71875 \r\nQ 11.71875 9.328125 16.59375 8.109375 \r\nQ 21.484375 6.890625 26.8125 6.890625 \r\nQ 36.078125 6.890625 40.9375 10.546875 \r\nQ 45.796875 14.203125 45.796875 21.1875 \r\nQ 45.796875 27.640625 41.28125 31.265625 \r\nQ 36.765625 34.90625 28.71875 34.90625 \r\nL 20.21875 34.90625 \r\nL 20.21875 43.015625 \r\nL 29.109375 43.015625 \r\nQ 36.375 43.015625 40.234375 45.921875 \r\nQ 44.09375 48.828125 44.09375 54.296875 \r\nQ 44.09375 59.90625 40.109375 62.90625 \r\nQ 36.140625 65.921875 28.71875 65.921875 \r\nQ 24.65625 65.921875 20.015625 65.03125 \r\nQ 15.375 64.15625 9.8125 62.3125 \r\nL 9.8125 71.09375 \r\nQ 15.4375 72.65625 20.34375 73.4375 \r\nQ 25.25 74.21875 29.59375 74.21875 \r\nQ 40.828125 74.21875 47.359375 69.109375 \r\nQ 53.90625 64.015625 53.90625 55.328125 \r\nQ 53.90625 49.265625 50.4375 45.09375 \r\nQ 46.96875 40.921875 40.578125 39.3125 \r\nz\r\n\" id=\"DejaVuSans-51\"/>\r\n       </defs>\r\n       <use xlink:href=\"#DejaVuSans-51\"/>\r\n       <use x=\"63.623047\" xlink:href=\"#DejaVuSans-48\"/>\r\n      </g>\r\n     </g>\r\n    </g>\r\n    <g id=\"xtick_5\">\r\n     <g id=\"line2d_5\">\r\n      <g>\r\n       <use style=\"stroke:#000000;stroke-width:0.8;\" x=\"164.52375\" xlink:href=\"#mbc292658eb\" y=\"226.740469\"/>\r\n      </g>\r\n     </g>\r\n     <g id=\"text_5\">\r\n      <!-- 40 -->\r\n      <g transform=\"translate(158.16125 241.338906)scale(0.1 -0.1)\">\r\n       <defs>\r\n        <path d=\"M 37.796875 64.3125 \r\nL 12.890625 25.390625 \r\nL 37.796875 25.390625 \r\nz\r\nM 35.203125 72.90625 \r\nL 47.609375 72.90625 \r\nL 47.609375 25.390625 \r\nL 58.015625 25.390625 \r\nL 58.015625 17.1875 \r\nL 47.609375 17.1875 \r\nL 47.609375 0 \r\nL 37.796875 0 \r\nL 37.796875 17.1875 \r\nL 4.890625 17.1875 \r\nL 4.890625 26.703125 \r\nz\r\n\" id=\"DejaVuSans-52\"/>\r\n       </defs>\r\n       <use xlink:href=\"#DejaVuSans-52\"/>\r\n       <use x=\"63.623047\" xlink:href=\"#DejaVuSans-48\"/>\r\n      </g>\r\n     </g>\r\n    </g>\r\n    <g id=\"xtick_6\">\r\n     <g id=\"line2d_6\">\r\n      <g>\r\n       <use style=\"stroke:#000000;stroke-width:0.8;\" x=\"198.49875\" xlink:href=\"#mbc292658eb\" y=\"226.740469\"/>\r\n      </g>\r\n     </g>\r\n     <g id=\"text_6\">\r\n      <!-- 50 -->\r\n      <g transform=\"translate(192.13625 241.338906)scale(0.1 -0.1)\">\r\n       <defs>\r\n        <path d=\"M 10.796875 72.90625 \r\nL 49.515625 72.90625 \r\nL 49.515625 64.59375 \r\nL 19.828125 64.59375 \r\nL 19.828125 46.734375 \r\nQ 21.96875 47.46875 24.109375 47.828125 \r\nQ 26.265625 48.1875 28.421875 48.1875 \r\nQ 40.625 48.1875 47.75 41.5 \r\nQ 54.890625 34.8125 54.890625 23.390625 \r\nQ 54.890625 11.625 47.5625 5.09375 \r\nQ 40.234375 -1.421875 26.90625 -1.421875 \r\nQ 22.3125 -1.421875 17.546875 -0.640625 \r\nQ 12.796875 0.140625 7.71875 1.703125 \r\nL 7.71875 11.625 \r\nQ 12.109375 9.234375 16.796875 8.0625 \r\nQ 21.484375 6.890625 26.703125 6.890625 \r\nQ 35.15625 6.890625 40.078125 11.328125 \r\nQ 45.015625 15.765625 45.015625 23.390625 \r\nQ 45.015625 31 40.078125 35.4375 \r\nQ 35.15625 39.890625 26.703125 39.890625 \r\nQ 22.75 39.890625 18.8125 39.015625 \r\nQ 14.890625 38.140625 10.796875 36.28125 \r\nz\r\n\" id=\"DejaVuSans-53\"/>\r\n       </defs>\r\n       <use xlink:href=\"#DejaVuSans-53\"/>\r\n       <use x=\"63.623047\" xlink:href=\"#DejaVuSans-48\"/>\r\n      </g>\r\n     </g>\r\n    </g>\r\n    <g id=\"xtick_7\">\r\n     <g id=\"line2d_7\">\r\n      <g>\r\n       <use style=\"stroke:#000000;stroke-width:0.8;\" x=\"232.47375\" xlink:href=\"#mbc292658eb\" y=\"226.740469\"/>\r\n      </g>\r\n     </g>\r\n     <g id=\"text_7\">\r\n      <!-- 60 -->\r\n      <g transform=\"translate(226.11125 241.338906)scale(0.1 -0.1)\">\r\n       <defs>\r\n        <path d=\"M 33.015625 40.375 \r\nQ 26.375 40.375 22.484375 35.828125 \r\nQ 18.609375 31.296875 18.609375 23.390625 \r\nQ 18.609375 15.53125 22.484375 10.953125 \r\nQ 26.375 6.390625 33.015625 6.390625 \r\nQ 39.65625 6.390625 43.53125 10.953125 \r\nQ 47.40625 15.53125 47.40625 23.390625 \r\nQ 47.40625 31.296875 43.53125 35.828125 \r\nQ 39.65625 40.375 33.015625 40.375 \r\nz\r\nM 52.59375 71.296875 \r\nL 52.59375 62.3125 \r\nQ 48.875 64.0625 45.09375 64.984375 \r\nQ 41.3125 65.921875 37.59375 65.921875 \r\nQ 27.828125 65.921875 22.671875 59.328125 \r\nQ 17.53125 52.734375 16.796875 39.40625 \r\nQ 19.671875 43.65625 24.015625 45.921875 \r\nQ 28.375 48.1875 33.59375 48.1875 \r\nQ 44.578125 48.1875 50.953125 41.515625 \r\nQ 57.328125 34.859375 57.328125 23.390625 \r\nQ 57.328125 12.15625 50.6875 5.359375 \r\nQ 44.046875 -1.421875 33.015625 -1.421875 \r\nQ 20.359375 -1.421875 13.671875 8.265625 \r\nQ 6.984375 17.96875 6.984375 36.375 \r\nQ 6.984375 53.65625 15.1875 63.9375 \r\nQ 23.390625 74.21875 37.203125 74.21875 \r\nQ 40.921875 74.21875 44.703125 73.484375 \r\nQ 48.484375 72.75 52.59375 71.296875 \r\nz\r\n\" id=\"DejaVuSans-54\"/>\r\n       </defs>\r\n       <use xlink:href=\"#DejaVuSans-54\"/>\r\n       <use x=\"63.623047\" xlink:href=\"#DejaVuSans-48\"/>\r\n      </g>\r\n     </g>\r\n    </g>\r\n   </g>\r\n   <g id=\"matplotlib.axis_2\">\r\n    <g id=\"ytick_1\">\r\n     <g id=\"line2d_8\">\r\n      <defs>\r\n       <path d=\"M 0 0 \r\nL -3.5 0 \r\n\" id=\"m7e4ce68ee4\" style=\"stroke:#000000;stroke-width:0.8;\"/>\r\n      </defs>\r\n      <g>\r\n       <use style=\"stroke:#000000;stroke-width:0.8;\" x=\"26.925\" xlink:href=\"#m7e4ce68ee4\" y=\"10.999219\"/>\r\n      </g>\r\n     </g>\r\n     <g id=\"text_8\">\r\n      <!-- 0 -->\r\n      <g transform=\"translate(13.5625 14.798437)scale(0.1 -0.1)\">\r\n       <use xlink:href=\"#DejaVuSans-48\"/>\r\n      </g>\r\n     </g>\r\n    </g>\r\n    <g id=\"ytick_2\">\r\n     <g id=\"line2d_9\">\r\n      <g>\r\n       <use style=\"stroke:#000000;stroke-width:0.8;\" x=\"26.925\" xlink:href=\"#m7e4ce68ee4\" y=\"44.974219\"/>\r\n      </g>\r\n     </g>\r\n     <g id=\"text_9\">\r\n      <!-- 10 -->\r\n      <g transform=\"translate(7.2 48.773437)scale(0.1 -0.1)\">\r\n       <use xlink:href=\"#DejaVuSans-49\"/>\r\n       <use x=\"63.623047\" xlink:href=\"#DejaVuSans-48\"/>\r\n      </g>\r\n     </g>\r\n    </g>\r\n    <g id=\"ytick_3\">\r\n     <g id=\"line2d_10\">\r\n      <g>\r\n       <use style=\"stroke:#000000;stroke-width:0.8;\" x=\"26.925\" xlink:href=\"#m7e4ce68ee4\" y=\"78.949219\"/>\r\n      </g>\r\n     </g>\r\n     <g id=\"text_10\">\r\n      <!-- 20 -->\r\n      <g transform=\"translate(7.2 82.748437)scale(0.1 -0.1)\">\r\n       <use xlink:href=\"#DejaVuSans-50\"/>\r\n       <use x=\"63.623047\" xlink:href=\"#DejaVuSans-48\"/>\r\n      </g>\r\n     </g>\r\n    </g>\r\n    <g id=\"ytick_4\">\r\n     <g id=\"line2d_11\">\r\n      <g>\r\n       <use style=\"stroke:#000000;stroke-width:0.8;\" x=\"26.925\" xlink:href=\"#m7e4ce68ee4\" y=\"112.924219\"/>\r\n      </g>\r\n     </g>\r\n     <g id=\"text_11\">\r\n      <!-- 30 -->\r\n      <g transform=\"translate(7.2 116.723437)scale(0.1 -0.1)\">\r\n       <use xlink:href=\"#DejaVuSans-51\"/>\r\n       <use x=\"63.623047\" xlink:href=\"#DejaVuSans-48\"/>\r\n      </g>\r\n     </g>\r\n    </g>\r\n    <g id=\"ytick_5\">\r\n     <g id=\"line2d_12\">\r\n      <g>\r\n       <use style=\"stroke:#000000;stroke-width:0.8;\" x=\"26.925\" xlink:href=\"#m7e4ce68ee4\" y=\"146.899219\"/>\r\n      </g>\r\n     </g>\r\n     <g id=\"text_12\">\r\n      <!-- 40 -->\r\n      <g transform=\"translate(7.2 150.698437)scale(0.1 -0.1)\">\r\n       <use xlink:href=\"#DejaVuSans-52\"/>\r\n       <use x=\"63.623047\" xlink:href=\"#DejaVuSans-48\"/>\r\n      </g>\r\n     </g>\r\n    </g>\r\n    <g id=\"ytick_6\">\r\n     <g id=\"line2d_13\">\r\n      <g>\r\n       <use style=\"stroke:#000000;stroke-width:0.8;\" x=\"26.925\" xlink:href=\"#m7e4ce68ee4\" y=\"180.874219\"/>\r\n      </g>\r\n     </g>\r\n     <g id=\"text_13\">\r\n      <!-- 50 -->\r\n      <g transform=\"translate(7.2 184.673437)scale(0.1 -0.1)\">\r\n       <use xlink:href=\"#DejaVuSans-53\"/>\r\n       <use x=\"63.623047\" xlink:href=\"#DejaVuSans-48\"/>\r\n      </g>\r\n     </g>\r\n    </g>\r\n    <g id=\"ytick_7\">\r\n     <g id=\"line2d_14\">\r\n      <g>\r\n       <use style=\"stroke:#000000;stroke-width:0.8;\" x=\"26.925\" xlink:href=\"#m7e4ce68ee4\" y=\"214.849219\"/>\r\n      </g>\r\n     </g>\r\n     <g id=\"text_14\">\r\n      <!-- 60 -->\r\n      <g transform=\"translate(7.2 218.648437)scale(0.1 -0.1)\">\r\n       <use xlink:href=\"#DejaVuSans-54\"/>\r\n       <use x=\"63.623047\" xlink:href=\"#DejaVuSans-48\"/>\r\n      </g>\r\n     </g>\r\n    </g>\r\n   </g>\r\n   <g id=\"patch_3\">\r\n    <path d=\"M 26.925 226.740469 \r\nL 26.925 9.300469 \r\n\" style=\"fill:none;stroke:#000000;stroke-linecap:square;stroke-linejoin:miter;stroke-width:0.8;\"/>\r\n   </g>\r\n   <g id=\"patch_4\">\r\n    <path d=\"M 244.365 226.740469 \r\nL 244.365 9.300469 \r\n\" style=\"fill:none;stroke:#000000;stroke-linecap:square;stroke-linejoin:miter;stroke-width:0.8;\"/>\r\n   </g>\r\n   <g id=\"patch_5\">\r\n    <path d=\"M 26.925 226.740469 \r\nL 244.365 226.740469 \r\n\" style=\"fill:none;stroke:#000000;stroke-linecap:square;stroke-linejoin:miter;stroke-width:0.8;\"/>\r\n   </g>\r\n   <g id=\"patch_6\">\r\n    <path d=\"M 26.925 9.300469 \r\nL 244.365 9.300469 \r\n\" style=\"fill:none;stroke:#000000;stroke-linecap:square;stroke-linejoin:miter;stroke-width:0.8;\"/>\r\n   </g>\r\n  </g>\r\n </g>\r\n <defs>\r\n  <clipPath id=\"p20dc806543\">\r\n   <rect height=\"217.44\" width=\"217.44\" x=\"26.925\" y=\"9.300469\"/>\r\n  </clipPath>\r\n </defs>\r\n</svg>\r\n",
      "image/png": "[encoded data removed]"
     },
     "metadata": {
      "needs_background": "light"
     }
    }
   ],
   "source": [
    "img_path = 'images/my_image.jpg'\n",
    "img = image.load_img(img_path, target_size=(64, 64))\n",
    "imshow(img)\n",
    "\n",
    "x = image.img_to_array(img)\n",
    "x = np.expand_dims(x, axis=0)\n",
    "x = preprocess_input(x)\n",
    "\n",
    "print(happyModel.predict(x))"
   ]
  },
  {
   "cell_type": "code",
   "execution_count": 11,
   "metadata": {
    "scrolled": false
   },
   "outputs": [
    {
     "output_type": "stream",
     "name": "stdout",
     "text": [
      "Model: \"HappyModel\"\n_________________________________________________________________\nLayer (type)                 Output Shape              Param #   \n=================================================================\ninput_1 (InputLayer)         [(None, 64, 64, 3)]       0         \n_________________________________________________________________\nzero_padding2d (ZeroPadding2 (None, 70, 70, 3)         0         \n_________________________________________________________________\nconv0 (Conv2D)               (None, 64, 64, 32)        4736      \n_________________________________________________________________\nbn0 (BatchNormalization)     (None, 64, 64, 32)        128       \n_________________________________________________________________\nactivation (Activation)      (None, 64, 64, 32)        0         \n_________________________________________________________________\nmax_pool (MaxPooling2D)      (None, 32, 32, 32)        0         \n_________________________________________________________________\nflatten (Flatten)            (None, 32768)             0         \n_________________________________________________________________\nfc (Dense)                   (None, 1)                 32769     \n=================================================================\nTotal params: 37,633\nTrainable params: 37,569\nNon-trainable params: 64\n_________________________________________________________________\n"
     ]
    }
   ],
   "source": [
    "happyModel.summary()"
   ]
  },
  {
   "cell_type": "code",
   "execution_count": null,
   "metadata": {},
   "outputs": [],
   "source": []
  }
 ],
 "metadata": {
  "kernelspec": {
   "name": "python388jvsc74a57bd0096b5706e8c9663241e9982b444192f01bd95cc1230b3c1403d145cafdaddfed",
   "display_name": "Python 3.8.8 64-bit ('SherlockHolmes': conda)"
  },
  "language_info": {
   "codemirror_mode": {
    "name": "ipython",
    "version": 3
   },
   "file_extension": ".py",
   "mimetype": "text/x-python",
   "name": "python",
   "nbconvert_exporter": "python",
   "pygments_lexer": "ipython3",
   "version": "3.8.8-final"
  },
  "toc": {
   "base_numbering": 1,
   "nav_menu": {},
   "number_sections": true,
   "sideBar": true,
   "skip_h1_title": false,
   "title_cell": "Table of Contents",
   "title_sidebar": "Contents",
   "toc_cell": false,
   "toc_position": {},
   "toc_section_display": true,
   "toc_window_display": false
  }
 },
 "nbformat": 4,
 "nbformat_minor": 2
}